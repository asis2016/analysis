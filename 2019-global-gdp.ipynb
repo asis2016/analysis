{
 "cells": [
  {
   "cell_type": "markdown",
   "id": "02d773cf",
   "metadata": {},
   "source": [
    "# Statistical analysis on 2019 Global GDP using Choropleth maps."
   ]
  },
  {
   "cell_type": "markdown",
   "id": "404d03a5",
   "metadata": {},
   "source": [
    "## Imports"
   ]
  },
  {
   "cell_type": "code",
   "execution_count": 123,
   "id": "98de311f",
   "metadata": {},
   "outputs": [],
   "source": [
    "import pandas as pd\n",
    "import chart_studio.plotly as py\n",
    "import plotly.graph_objs as go \n",
    "from plotly.offline import download_plotlyjs, init_notebook_mode, plot, iplot"
   ]
  },
  {
   "cell_type": "code",
   "execution_count": 125,
   "id": "300ec17b",
   "metadata": {},
   "outputs": [
    {
     "data": {
      "text/html": [
       "        <script type=\"text/javascript\">\n",
       "        window.PlotlyConfig = {MathJaxConfig: 'local'};\n",
       "        if (window.MathJax) {MathJax.Hub.Config({SVG: {font: \"STIX-Web\"}});}\n",
       "        if (typeof require !== 'undefined') {\n",
       "        require.undef(\"plotly\");\n",
       "        requirejs.config({\n",
       "            paths: {\n",
       "                'plotly': ['https://cdn.plot.ly/plotly-latest.min']\n",
       "            }\n",
       "        });\n",
       "        require(['plotly'], function(Plotly) {\n",
       "            window._Plotly = Plotly;\n",
       "        });\n",
       "        }\n",
       "        </script>\n",
       "        "
      ]
     },
     "metadata": {},
     "output_type": "display_data"
    }
   ],
   "source": [
    "init_notebook_mode(connected=True) "
   ]
  },
  {
   "cell_type": "markdown",
   "id": "65ae39fe",
   "metadata": {},
   "source": [
    "## Raw data"
   ]
  },
  {
   "cell_type": "code",
   "execution_count": 109,
   "id": "886f8da0",
   "metadata": {},
   "outputs": [
    {
     "data": {
      "text/plain": [
       "17160"
      ]
     },
     "execution_count": 109,
     "metadata": {},
     "output_type": "execute_result"
    }
   ],
   "source": [
    "raw_df = pd.read_csv('dataset-gdp/data.csv')\n",
    "\n",
    "# info()\n",
    "raw_df.size"
   ]
  },
  {
   "cell_type": "code",
   "execution_count": 110,
   "id": "57bdbec4",
   "metadata": {},
   "outputs": [
    {
     "data": {
      "text/html": [
       "<div>\n",
       "<style scoped>\n",
       "    .dataframe tbody tr th:only-of-type {\n",
       "        vertical-align: middle;\n",
       "    }\n",
       "\n",
       "    .dataframe tbody tr th {\n",
       "        vertical-align: top;\n",
       "    }\n",
       "\n",
       "    .dataframe thead th {\n",
       "        text-align: right;\n",
       "    }\n",
       "</style>\n",
       "<table border=\"1\" class=\"dataframe\">\n",
       "  <thead>\n",
       "    <tr style=\"text-align: right;\">\n",
       "      <th></th>\n",
       "      <th>Country Name</th>\n",
       "      <th>Country Code</th>\n",
       "      <th>Indicator Name</th>\n",
       "      <th>Indicator Code</th>\n",
       "      <th>1960</th>\n",
       "      <th>1961</th>\n",
       "      <th>1962</th>\n",
       "      <th>1963</th>\n",
       "      <th>1964</th>\n",
       "      <th>1965</th>\n",
       "      <th>...</th>\n",
       "      <th>2011</th>\n",
       "      <th>2012</th>\n",
       "      <th>2013</th>\n",
       "      <th>2014</th>\n",
       "      <th>2015</th>\n",
       "      <th>2016</th>\n",
       "      <th>2017</th>\n",
       "      <th>2018</th>\n",
       "      <th>2019</th>\n",
       "      <th>2020</th>\n",
       "    </tr>\n",
       "  </thead>\n",
       "  <tbody>\n",
       "    <tr>\n",
       "      <th>0</th>\n",
       "      <td>Aruba</td>\n",
       "      <td>ABW</td>\n",
       "      <td>GDP (current US$)</td>\n",
       "      <td>NY.GDP.MKTP.CD</td>\n",
       "      <td>NaN</td>\n",
       "      <td>NaN</td>\n",
       "      <td>NaN</td>\n",
       "      <td>NaN</td>\n",
       "      <td>NaN</td>\n",
       "      <td>NaN</td>\n",
       "      <td>...</td>\n",
       "      <td>2.549721e+09</td>\n",
       "      <td>2.534637e+09</td>\n",
       "      <td>2.701676e+09</td>\n",
       "      <td>2.765363e+09</td>\n",
       "      <td>2.919553e+09</td>\n",
       "      <td>2.965922e+09</td>\n",
       "      <td>3.056425e+09</td>\n",
       "      <td>NaN</td>\n",
       "      <td>NaN</td>\n",
       "      <td>NaN</td>\n",
       "    </tr>\n",
       "    <tr>\n",
       "      <th>1</th>\n",
       "      <td>Afghanistan</td>\n",
       "      <td>AFG</td>\n",
       "      <td>GDP (current US$)</td>\n",
       "      <td>NY.GDP.MKTP.CD</td>\n",
       "      <td>5.377778e+08</td>\n",
       "      <td>5.488889e+08</td>\n",
       "      <td>5.466667e+08</td>\n",
       "      <td>7.511112e+08</td>\n",
       "      <td>8.000000e+08</td>\n",
       "      <td>1.006667e+09</td>\n",
       "      <td>...</td>\n",
       "      <td>1.780429e+10</td>\n",
       "      <td>2.000160e+10</td>\n",
       "      <td>2.056107e+10</td>\n",
       "      <td>2.048489e+10</td>\n",
       "      <td>1.990711e+10</td>\n",
       "      <td>1.801775e+10</td>\n",
       "      <td>1.886995e+10</td>\n",
       "      <td>1.835388e+10</td>\n",
       "      <td>1.929110e+10</td>\n",
       "      <td>NaN</td>\n",
       "    </tr>\n",
       "    <tr>\n",
       "      <th>2</th>\n",
       "      <td>Angola</td>\n",
       "      <td>AGO</td>\n",
       "      <td>GDP (current US$)</td>\n",
       "      <td>NY.GDP.MKTP.CD</td>\n",
       "      <td>NaN</td>\n",
       "      <td>NaN</td>\n",
       "      <td>NaN</td>\n",
       "      <td>NaN</td>\n",
       "      <td>NaN</td>\n",
       "      <td>NaN</td>\n",
       "      <td>...</td>\n",
       "      <td>1.117897e+11</td>\n",
       "      <td>1.280529e+11</td>\n",
       "      <td>1.367099e+11</td>\n",
       "      <td>1.457122e+11</td>\n",
       "      <td>1.161936e+11</td>\n",
       "      <td>1.011239e+11</td>\n",
       "      <td>1.221238e+11</td>\n",
       "      <td>1.013532e+11</td>\n",
       "      <td>8.881570e+10</td>\n",
       "      <td>NaN</td>\n",
       "    </tr>\n",
       "  </tbody>\n",
       "</table>\n",
       "<p>3 rows × 65 columns</p>\n",
       "</div>"
      ],
      "text/plain": [
       "  Country Name Country Code     Indicator Name  Indicator Code          1960  \\\n",
       "0        Aruba          ABW  GDP (current US$)  NY.GDP.MKTP.CD           NaN   \n",
       "1  Afghanistan          AFG  GDP (current US$)  NY.GDP.MKTP.CD  5.377778e+08   \n",
       "2       Angola          AGO  GDP (current US$)  NY.GDP.MKTP.CD           NaN   \n",
       "\n",
       "           1961          1962          1963          1964          1965  ...  \\\n",
       "0           NaN           NaN           NaN           NaN           NaN  ...   \n",
       "1  5.488889e+08  5.466667e+08  7.511112e+08  8.000000e+08  1.006667e+09  ...   \n",
       "2           NaN           NaN           NaN           NaN           NaN  ...   \n",
       "\n",
       "           2011          2012          2013          2014          2015  \\\n",
       "0  2.549721e+09  2.534637e+09  2.701676e+09  2.765363e+09  2.919553e+09   \n",
       "1  1.780429e+10  2.000160e+10  2.056107e+10  2.048489e+10  1.990711e+10   \n",
       "2  1.117897e+11  1.280529e+11  1.367099e+11  1.457122e+11  1.161936e+11   \n",
       "\n",
       "           2016          2017          2018          2019  2020  \n",
       "0  2.965922e+09  3.056425e+09           NaN           NaN   NaN  \n",
       "1  1.801775e+10  1.886995e+10  1.835388e+10  1.929110e+10   NaN  \n",
       "2  1.011239e+11  1.221238e+11  1.013532e+11  8.881570e+10   NaN  \n",
       "\n",
       "[3 rows x 65 columns]"
      ]
     },
     "execution_count": 110,
     "metadata": {},
     "output_type": "execute_result"
    }
   ],
   "source": [
    "raw_df.head(3)"
   ]
  },
  {
   "cell_type": "markdown",
   "id": "bf4ae73a",
   "metadata": {},
   "source": [
    "## Only 2019"
   ]
  },
  {
   "cell_type": "code",
   "execution_count": 112,
   "id": "66e7f54a",
   "metadata": {},
   "outputs": [],
   "source": [
    "df = [raw_df[raw_df.columns[0]], \n",
    "          raw_df[raw_df.columns[1]],\n",
    "          raw_df[raw_df.columns[63]]]\n",
    "\n",
    "headers = [\"country\", \"code\", \"2019\"]"
   ]
  },
  {
   "cell_type": "code",
   "execution_count": 113,
   "id": "6b7fd434",
   "metadata": {},
   "outputs": [],
   "source": [
    "df = pd.concat(df, \n",
    "                     axis = 1, \n",
    "                     keys = headers)"
   ]
  },
  {
   "cell_type": "code",
   "execution_count": 114,
   "id": "a1ac0a87",
   "metadata": {},
   "outputs": [
    {
     "data": {
      "text/html": [
       "<div>\n",
       "<style scoped>\n",
       "    .dataframe tbody tr th:only-of-type {\n",
       "        vertical-align: middle;\n",
       "    }\n",
       "\n",
       "    .dataframe tbody tr th {\n",
       "        vertical-align: top;\n",
       "    }\n",
       "\n",
       "    .dataframe thead th {\n",
       "        text-align: right;\n",
       "    }\n",
       "</style>\n",
       "<table border=\"1\" class=\"dataframe\">\n",
       "  <thead>\n",
       "    <tr style=\"text-align: right;\">\n",
       "      <th></th>\n",
       "      <th>country</th>\n",
       "      <th>code</th>\n",
       "      <th>2019</th>\n",
       "    </tr>\n",
       "  </thead>\n",
       "  <tbody>\n",
       "    <tr>\n",
       "      <th>0</th>\n",
       "      <td>Aruba</td>\n",
       "      <td>ABW</td>\n",
       "      <td>NaN</td>\n",
       "    </tr>\n",
       "    <tr>\n",
       "      <th>1</th>\n",
       "      <td>Afghanistan</td>\n",
       "      <td>AFG</td>\n",
       "      <td>1.929110e+10</td>\n",
       "    </tr>\n",
       "    <tr>\n",
       "      <th>2</th>\n",
       "      <td>Angola</td>\n",
       "      <td>AGO</td>\n",
       "      <td>8.881570e+10</td>\n",
       "    </tr>\n",
       "  </tbody>\n",
       "</table>\n",
       "</div>"
      ],
      "text/plain": [
       "       country code          2019\n",
       "0        Aruba  ABW           NaN\n",
       "1  Afghanistan  AFG  1.929110e+10\n",
       "2       Angola  AGO  8.881570e+10"
      ]
     },
     "execution_count": 114,
     "metadata": {},
     "output_type": "execute_result"
    }
   ],
   "source": [
    "df.head(3)"
   ]
  },
  {
   "cell_type": "markdown",
   "id": "79b1523d",
   "metadata": {},
   "source": [
    "## Choropleth maps"
   ]
  },
  {
   "cell_type": "code",
   "execution_count": 170,
   "id": "666c6978",
   "metadata": {},
   "outputs": [],
   "source": [
    "data = dict(\n",
    "    type = 'choropleth',\n",
    "    locations = df['code'],\n",
    "    z = df['2019'],\n",
    "    colorscale= 'Reds',\n",
    "    colorbar = {\n",
    "        'title': 'USD'\n",
    "    }\n",
    ")"
   ]
  },
  {
   "cell_type": "code",
   "execution_count": 171,
   "id": "ae95c873",
   "metadata": {},
   "outputs": [],
   "source": [
    "choromap = go.Figure(\n",
    "    data = [data],\n",
    "    layout = {\n",
    "        'title':'2019 Global GDP in USD',\n",
    "    }\n",
    ")"
   ]
  },
  {
   "cell_type": "code",
   "execution_count": 172,
   "id": "8499c397",
   "metadata": {},
   "outputs": [
    {
     "data": {
      "application/vnd.plotly.v1+json": {
       "config": {
        "linkText": "Export to plot.ly",
        "plotlyServerURL": "https://plot.ly",
        "showLink": false
       },
       "data": [
        {
         "colorbar": {
          "title": {
           "text": "USD"
          }
         },
         "colorscale": [
          [
           0,
           "rgb(255,245,240)"
          ],
          [
           0.125,
           "rgb(254,224,210)"
          ],
          [
           0.25,
           "rgb(252,187,161)"
          ],
          [
           0.375,
           "rgb(252,146,114)"
          ],
          [
           0.5,
           "rgb(251,106,74)"
          ],
          [
           0.625,
           "rgb(239,59,44)"
          ],
          [
           0.75,
           "rgb(203,24,29)"
          ],
          [
           0.875,
           "rgb(165,15,21)"
          ],
          [
           1,
           "rgb(103,0,13)"
          ]
         ],
         "locations": [
          "ABW",
          "AFG",
          "AGO",
          "ALB",
          "AND",
          "ARB",
          "ARE",
          "ARG",
          "ARM",
          "ASM",
          "ATG",
          "AUS",
          "AUT",
          "AZE",
          "BDI",
          "BEL",
          "BEN",
          "BFA",
          "BGD",
          "BGR",
          "BHR",
          "BHS",
          "BIH",
          "BLR",
          "BLZ",
          "BMU",
          "BOL",
          "BRA",
          "BRB",
          "BRN",
          "BTN",
          "BWA",
          "CAF",
          "CAN",
          "CEB",
          "CHE",
          "CHI",
          "CHL",
          "CHN",
          "CIV",
          "CMR",
          "COD",
          "COG",
          "COL",
          "COM",
          "CPV",
          "CRI",
          "CSS",
          "CUB",
          "CUW",
          "CYM",
          "CYP",
          "CZE",
          "DEU",
          "DJI",
          "DMA",
          "DNK",
          "DOM",
          "DZA",
          "EAP",
          "EAR",
          "EAS",
          "ECA",
          "ECS",
          "ECU",
          "EGY",
          "EMU",
          "ERI",
          "ESP",
          "EST",
          "ETH",
          "EUU",
          "FCS",
          "FIN",
          "FJI",
          "FRA",
          "FRO",
          "FSM",
          "GAB",
          "GBR",
          "GEO",
          "GHA",
          "GIB",
          "GIN",
          "GMB",
          "GNB",
          "GNQ",
          "GRC",
          "GRD",
          "GRL",
          "GTM",
          "GUM",
          "GUY",
          "HIC",
          "HKG",
          "HND",
          "HPC",
          "HRV",
          "HTI",
          "HUN",
          "IBD",
          "IBT",
          "IDA",
          "IDB",
          "IDN",
          "IDX",
          "IMN",
          "IND",
          "INX",
          "IRL",
          "IRN",
          "IRQ",
          "ISL",
          "ISR",
          "ITA",
          "JAM",
          "JOR",
          "JPN",
          "KAZ",
          "KEN",
          "KGZ",
          "KHM",
          "KIR",
          "KNA",
          "KOR",
          "KWT",
          "LAC",
          "LAO",
          "LBN",
          "LBR",
          "LBY",
          "LCA",
          "LCN",
          "LDC",
          "LIC",
          "LIE",
          "LKA",
          "LMC",
          "LMY",
          "LSO",
          "LTE",
          "LTU",
          "LUX",
          "LVA",
          "MAC",
          "MAF",
          "MAR",
          "MCO",
          "MDA",
          "MDG",
          "MDV",
          "MEA",
          "MEX",
          "MHL",
          "MIC",
          "MKD",
          "MLI",
          "MLT",
          "MMR",
          "MNA",
          "MNE",
          "MNG",
          "MNP",
          "MOZ",
          "MRT",
          "MUS",
          "MWI",
          "MYS",
          "NAC",
          "NAM",
          "NCL",
          "NER",
          "NGA",
          "NIC",
          "NLD",
          "NOR",
          "NPL",
          "NRU",
          "NZL",
          "OED",
          "OMN",
          "OSS",
          "PAK",
          "PAN",
          "PER",
          "PHL",
          "PLW",
          "PNG",
          "POL",
          "PRE",
          "PRI",
          "PRK",
          "PRT",
          "PRY",
          "PSE",
          "PSS",
          "PST",
          "PYF",
          "QAT",
          "ROU",
          "RUS",
          "RWA",
          "SAS",
          "SAU",
          "SDN",
          "SEN",
          "SGP",
          "SLB",
          "SLE",
          "SLV",
          "SMR",
          "SOM",
          "SRB",
          "SSA",
          "SSD",
          "SSF",
          "SST",
          "STP",
          "SUR",
          "SVK",
          "SVN",
          "SWE",
          "SWZ",
          "SXM",
          "SYC",
          "SYR",
          "TCA",
          "TCD",
          "TEA",
          "TEC",
          "TGO",
          "THA",
          "TJK",
          "TKM",
          "TLA",
          "TLS",
          "TMN",
          "TON",
          "TSA",
          "TSS",
          "TTO",
          "TUN",
          "TUR",
          "TUV",
          "TZA",
          "UGA",
          "UKR",
          "UMC",
          "URY",
          "USA",
          "UZB",
          "VCT",
          "VEN",
          "VGB",
          "VIR",
          "VNM",
          "VUT",
          "WLD",
          "WSM",
          "XKX",
          "YEM",
          "ZAF",
          "ZMB",
          "ZWE"
         ],
         "type": "choropleth",
         "z": [
          null,
          19291104007.8299,
          88815697793.303,
          15279183289.9372,
          3154057987.23833,
          2817414584665.11,
          421142267937.65,
          445445177459.426,
          13672802157.8324,
          null,
          1661962962.96296,
          1396567014733.23,
          445075391688.156,
          48047647058.8235,
          3012334881.64057,
          533097455834.509,
          14390709094.9386,
          15990803569.9961,
          302571254131.135,
          68558815111.6199,
          38574069148.9362,
          13578800000,
          20164193806.88,
          63080457022.6599,
          1879613600,
          7484113000,
          40895322843.7851,
          1839758040765.62,
          5209000000,
          13469422958.5105,
          2530547157.56678,
          18340480936.0444,
          2220307368.69593,
          1736425629519.96,
          1668851928931.89,
          703082435158.864,
          null,
          282318159744.65,
          14279937467431,
          58539424929.7248,
          39007354359.2798,
          50400746171.4239,
          12267392146.5888,
          323615979418.651,
          1165839927.06327,
          1981845740.35828,
          61801385049.0716,
          77721714917.8506,
          null,
          3101787709.49721,
          null,
          24948935408.0376,
          250680504529.647,
          3861123558039.21,
          3324634256.13324,
          582403703.703704,
          350104327658.675,
          88941299734.2073,
          171091289782.245,
          17151686026915.6,
          11989867025219.9,
          26924664688093.9,
          3248461689441.89,
          22792819661712.7,
          107435665000,
          303092255125.285,
          13356063677260.5,
          null,
          1393490524517.64,
          31471100656.2431,
          95912590628.1412,
          15626448476438.3,
          1778456492418.56,
          269296310180.392,
          5496250694.31587,
          2715518274227.45,
          null,
          null,
          16874450215.1351,
          2829108219165.8,
          17477255545.6705,
          66983634223.943,
          null,
          12296665331.192,
          1826073739.82522,
          1339449165.48759,
          11026774945.3415,
          209852761132.839,
          1210603703.7037,
          null,
          76710355347.0968,
          null,
          5173759527.57794,
          55140634994666.1,
          365711532816.907,
          25095395475.0393,
          783061756161.729,
          60752588976.3175,
          14332163266.3977,
          163469042867.956,
          31538957028550.6,
          33852003085093.2,
          2320313648145.49,
          991547520067.22,
          1119190780752.8,
          1331970889524.39,
          null,
          2868929415617.02,
          null,
          388698711348.156,
          null,
          234094042938.917,
          24188038473.5438,
          394652210295.849,
          2003576145498.04,
          16458071067.8176,
          44502895861.6837,
          5081769542379.77,
          181665908556.499,
          95503088538.092,
          8454619607.81795,
          27089389786.979,
          194647201.946472,
          1053244444.44444,
          1646739219509.89,
          134628542746.97,
          5149595087470.17,
          18173839147.4011,
          51991634491.6345,
          3070518100,
          52091152228.3425,
          2122450629.62963,
          5733773582151.17,
          1115238042585.36,
          541511926907.273,
          null,
          84008783756.068,
          6334933300545.64,
          32643456410262.6,
          2376328637.26318,
          22920380253104.7,
          54627411860.4705,
          71104919108.1411,
          34102913582.4235,
          53859116535.5306,
          null,
          119700325461.938,
          null,
          11968713370.4969,
          14114631280.6774,
          5642179170.45898,
          3649607782728.21,
          1268870527160.03,
          null,
          32087932735521.4,
          12547040498.9077,
          17279566718.6087,
          14989415684.1203,
          76085852617.1371,
          null,
          5542577964.98146,
          13996719329.4097,
          null,
          15291448211.603,
          7600656943.97506,
          14048430518.5561,
          7666704427.00915,
          364681367531.684,
          23177135742520,
          12366528259.1844,
          null,
          12911689659.351,
          448120428858.769,
          12520915291.1837,
          907050863145.097,
          403336363636.364,
          30641380603.9699,
          118223430.124446,
          206928765543.935,
          53699374881339.8,
          76331518668.5771,
          432092892349.402,
          278221906022.841,
          66800800000,
          226848050819.525,
          376795508678.853,
          268354919.433594,
          24829107011.0701,
          595858207011.512,
          1403794376560.53,
          104988600000,
          null,
          238785085030.988,
          38145288939.8488,
          null,
          10634784072.6223,
          50769917916181.5,
          null,
          175837550996.185,
          250077444017.084,
          1699876578871.35,
          10354417725.1555,
          3591836570466.89,
          792966838161.659,
          30513456084.7961,
          23578084052.0147,
          372062527488.638,
          1589913622.23799,
          4121733705.29165,
          27022640000,
          null,
          null,
          51475016532.1293,
          1751180043654.43,
          null,
          1766941400078.09,
          520457174770.632,
          418637388.988052,
          3697371949.58434,
          105079673009.733,
          54174227308.8862,
          530883869004.977,
          4471598726.6436,
          null,
          1703387387.32319,
          null,
          1197415000,
          11314951342.7807,
          17118925821623.1,
          4155157371202.28,
          5490272413.38702,
          543548969968.693,
          8116626794.25837,
          null,
          5487957496814.37,
          2017924900,
          null,
          512350059.421629,
          3591836570466.89,
          1766941400078.09,
          24269714809.9078,
          38796687568.157,
          761425499358.159,
          47271463.3298575,
          63177068174.549,
          35165157016.9125,
          153781069118.148,
          25741843596304.4,
          56045912952.9732,
          21433226000000,
          57921286440.3495,
          824718518.518518,
          null,
          null,
          null,
          261921244843.172,
          934239973.812573,
          87734574388072.7,
          852250190.985485,
          7926133713.61397,
          22581081993.945,
          351431649241.439,
          23309773922.7582,
          21440758800
         ]
        }
       ],
       "layout": {
        "template": {
         "data": {
          "bar": [
           {
            "error_x": {
             "color": "#2a3f5f"
            },
            "error_y": {
             "color": "#2a3f5f"
            },
            "marker": {
             "line": {
              "color": "#E5ECF6",
              "width": 0.5
             }
            },
            "type": "bar"
           }
          ],
          "barpolar": [
           {
            "marker": {
             "line": {
              "color": "#E5ECF6",
              "width": 0.5
             }
            },
            "type": "barpolar"
           }
          ],
          "carpet": [
           {
            "aaxis": {
             "endlinecolor": "#2a3f5f",
             "gridcolor": "white",
             "linecolor": "white",
             "minorgridcolor": "white",
             "startlinecolor": "#2a3f5f"
            },
            "baxis": {
             "endlinecolor": "#2a3f5f",
             "gridcolor": "white",
             "linecolor": "white",
             "minorgridcolor": "white",
             "startlinecolor": "#2a3f5f"
            },
            "type": "carpet"
           }
          ],
          "choropleth": [
           {
            "colorbar": {
             "outlinewidth": 0,
             "ticks": ""
            },
            "type": "choropleth"
           }
          ],
          "contour": [
           {
            "colorbar": {
             "outlinewidth": 0,
             "ticks": ""
            },
            "colorscale": [
             [
              0,
              "#0d0887"
             ],
             [
              0.1111111111111111,
              "#46039f"
             ],
             [
              0.2222222222222222,
              "#7201a8"
             ],
             [
              0.3333333333333333,
              "#9c179e"
             ],
             [
              0.4444444444444444,
              "#bd3786"
             ],
             [
              0.5555555555555556,
              "#d8576b"
             ],
             [
              0.6666666666666666,
              "#ed7953"
             ],
             [
              0.7777777777777778,
              "#fb9f3a"
             ],
             [
              0.8888888888888888,
              "#fdca26"
             ],
             [
              1,
              "#f0f921"
             ]
            ],
            "type": "contour"
           }
          ],
          "contourcarpet": [
           {
            "colorbar": {
             "outlinewidth": 0,
             "ticks": ""
            },
            "type": "contourcarpet"
           }
          ],
          "heatmap": [
           {
            "colorbar": {
             "outlinewidth": 0,
             "ticks": ""
            },
            "colorscale": [
             [
              0,
              "#0d0887"
             ],
             [
              0.1111111111111111,
              "#46039f"
             ],
             [
              0.2222222222222222,
              "#7201a8"
             ],
             [
              0.3333333333333333,
              "#9c179e"
             ],
             [
              0.4444444444444444,
              "#bd3786"
             ],
             [
              0.5555555555555556,
              "#d8576b"
             ],
             [
              0.6666666666666666,
              "#ed7953"
             ],
             [
              0.7777777777777778,
              "#fb9f3a"
             ],
             [
              0.8888888888888888,
              "#fdca26"
             ],
             [
              1,
              "#f0f921"
             ]
            ],
            "type": "heatmap"
           }
          ],
          "heatmapgl": [
           {
            "colorbar": {
             "outlinewidth": 0,
             "ticks": ""
            },
            "colorscale": [
             [
              0,
              "#0d0887"
             ],
             [
              0.1111111111111111,
              "#46039f"
             ],
             [
              0.2222222222222222,
              "#7201a8"
             ],
             [
              0.3333333333333333,
              "#9c179e"
             ],
             [
              0.4444444444444444,
              "#bd3786"
             ],
             [
              0.5555555555555556,
              "#d8576b"
             ],
             [
              0.6666666666666666,
              "#ed7953"
             ],
             [
              0.7777777777777778,
              "#fb9f3a"
             ],
             [
              0.8888888888888888,
              "#fdca26"
             ],
             [
              1,
              "#f0f921"
             ]
            ],
            "type": "heatmapgl"
           }
          ],
          "histogram": [
           {
            "marker": {
             "colorbar": {
              "outlinewidth": 0,
              "ticks": ""
             }
            },
            "type": "histogram"
           }
          ],
          "histogram2d": [
           {
            "colorbar": {
             "outlinewidth": 0,
             "ticks": ""
            },
            "colorscale": [
             [
              0,
              "#0d0887"
             ],
             [
              0.1111111111111111,
              "#46039f"
             ],
             [
              0.2222222222222222,
              "#7201a8"
             ],
             [
              0.3333333333333333,
              "#9c179e"
             ],
             [
              0.4444444444444444,
              "#bd3786"
             ],
             [
              0.5555555555555556,
              "#d8576b"
             ],
             [
              0.6666666666666666,
              "#ed7953"
             ],
             [
              0.7777777777777778,
              "#fb9f3a"
             ],
             [
              0.8888888888888888,
              "#fdca26"
             ],
             [
              1,
              "#f0f921"
             ]
            ],
            "type": "histogram2d"
           }
          ],
          "histogram2dcontour": [
           {
            "colorbar": {
             "outlinewidth": 0,
             "ticks": ""
            },
            "colorscale": [
             [
              0,
              "#0d0887"
             ],
             [
              0.1111111111111111,
              "#46039f"
             ],
             [
              0.2222222222222222,
              "#7201a8"
             ],
             [
              0.3333333333333333,
              "#9c179e"
             ],
             [
              0.4444444444444444,
              "#bd3786"
             ],
             [
              0.5555555555555556,
              "#d8576b"
             ],
             [
              0.6666666666666666,
              "#ed7953"
             ],
             [
              0.7777777777777778,
              "#fb9f3a"
             ],
             [
              0.8888888888888888,
              "#fdca26"
             ],
             [
              1,
              "#f0f921"
             ]
            ],
            "type": "histogram2dcontour"
           }
          ],
          "mesh3d": [
           {
            "colorbar": {
             "outlinewidth": 0,
             "ticks": ""
            },
            "type": "mesh3d"
           }
          ],
          "parcoords": [
           {
            "line": {
             "colorbar": {
              "outlinewidth": 0,
              "ticks": ""
             }
            },
            "type": "parcoords"
           }
          ],
          "pie": [
           {
            "automargin": true,
            "type": "pie"
           }
          ],
          "scatter": [
           {
            "marker": {
             "colorbar": {
              "outlinewidth": 0,
              "ticks": ""
             }
            },
            "type": "scatter"
           }
          ],
          "scatter3d": [
           {
            "line": {
             "colorbar": {
              "outlinewidth": 0,
              "ticks": ""
             }
            },
            "marker": {
             "colorbar": {
              "outlinewidth": 0,
              "ticks": ""
             }
            },
            "type": "scatter3d"
           }
          ],
          "scattercarpet": [
           {
            "marker": {
             "colorbar": {
              "outlinewidth": 0,
              "ticks": ""
             }
            },
            "type": "scattercarpet"
           }
          ],
          "scattergeo": [
           {
            "marker": {
             "colorbar": {
              "outlinewidth": 0,
              "ticks": ""
             }
            },
            "type": "scattergeo"
           }
          ],
          "scattergl": [
           {
            "marker": {
             "colorbar": {
              "outlinewidth": 0,
              "ticks": ""
             }
            },
            "type": "scattergl"
           }
          ],
          "scattermapbox": [
           {
            "marker": {
             "colorbar": {
              "outlinewidth": 0,
              "ticks": ""
             }
            },
            "type": "scattermapbox"
           }
          ],
          "scatterpolar": [
           {
            "marker": {
             "colorbar": {
              "outlinewidth": 0,
              "ticks": ""
             }
            },
            "type": "scatterpolar"
           }
          ],
          "scatterpolargl": [
           {
            "marker": {
             "colorbar": {
              "outlinewidth": 0,
              "ticks": ""
             }
            },
            "type": "scatterpolargl"
           }
          ],
          "scatterternary": [
           {
            "marker": {
             "colorbar": {
              "outlinewidth": 0,
              "ticks": ""
             }
            },
            "type": "scatterternary"
           }
          ],
          "surface": [
           {
            "colorbar": {
             "outlinewidth": 0,
             "ticks": ""
            },
            "colorscale": [
             [
              0,
              "#0d0887"
             ],
             [
              0.1111111111111111,
              "#46039f"
             ],
             [
              0.2222222222222222,
              "#7201a8"
             ],
             [
              0.3333333333333333,
              "#9c179e"
             ],
             [
              0.4444444444444444,
              "#bd3786"
             ],
             [
              0.5555555555555556,
              "#d8576b"
             ],
             [
              0.6666666666666666,
              "#ed7953"
             ],
             [
              0.7777777777777778,
              "#fb9f3a"
             ],
             [
              0.8888888888888888,
              "#fdca26"
             ],
             [
              1,
              "#f0f921"
             ]
            ],
            "type": "surface"
           }
          ],
          "table": [
           {
            "cells": {
             "fill": {
              "color": "#EBF0F8"
             },
             "line": {
              "color": "white"
             }
            },
            "header": {
             "fill": {
              "color": "#C8D4E3"
             },
             "line": {
              "color": "white"
             }
            },
            "type": "table"
           }
          ]
         },
         "layout": {
          "annotationdefaults": {
           "arrowcolor": "#2a3f5f",
           "arrowhead": 0,
           "arrowwidth": 1
          },
          "autotypenumbers": "strict",
          "coloraxis": {
           "colorbar": {
            "outlinewidth": 0,
            "ticks": ""
           }
          },
          "colorscale": {
           "diverging": [
            [
             0,
             "#8e0152"
            ],
            [
             0.1,
             "#c51b7d"
            ],
            [
             0.2,
             "#de77ae"
            ],
            [
             0.3,
             "#f1b6da"
            ],
            [
             0.4,
             "#fde0ef"
            ],
            [
             0.5,
             "#f7f7f7"
            ],
            [
             0.6,
             "#e6f5d0"
            ],
            [
             0.7,
             "#b8e186"
            ],
            [
             0.8,
             "#7fbc41"
            ],
            [
             0.9,
             "#4d9221"
            ],
            [
             1,
             "#276419"
            ]
           ],
           "sequential": [
            [
             0,
             "#0d0887"
            ],
            [
             0.1111111111111111,
             "#46039f"
            ],
            [
             0.2222222222222222,
             "#7201a8"
            ],
            [
             0.3333333333333333,
             "#9c179e"
            ],
            [
             0.4444444444444444,
             "#bd3786"
            ],
            [
             0.5555555555555556,
             "#d8576b"
            ],
            [
             0.6666666666666666,
             "#ed7953"
            ],
            [
             0.7777777777777778,
             "#fb9f3a"
            ],
            [
             0.8888888888888888,
             "#fdca26"
            ],
            [
             1,
             "#f0f921"
            ]
           ],
           "sequentialminus": [
            [
             0,
             "#0d0887"
            ],
            [
             0.1111111111111111,
             "#46039f"
            ],
            [
             0.2222222222222222,
             "#7201a8"
            ],
            [
             0.3333333333333333,
             "#9c179e"
            ],
            [
             0.4444444444444444,
             "#bd3786"
            ],
            [
             0.5555555555555556,
             "#d8576b"
            ],
            [
             0.6666666666666666,
             "#ed7953"
            ],
            [
             0.7777777777777778,
             "#fb9f3a"
            ],
            [
             0.8888888888888888,
             "#fdca26"
            ],
            [
             1,
             "#f0f921"
            ]
           ]
          },
          "colorway": [
           "#636efa",
           "#EF553B",
           "#00cc96",
           "#ab63fa",
           "#FFA15A",
           "#19d3f3",
           "#FF6692",
           "#B6E880",
           "#FF97FF",
           "#FECB52"
          ],
          "font": {
           "color": "#2a3f5f"
          },
          "geo": {
           "bgcolor": "white",
           "lakecolor": "white",
           "landcolor": "#E5ECF6",
           "showlakes": true,
           "showland": true,
           "subunitcolor": "white"
          },
          "hoverlabel": {
           "align": "left"
          },
          "hovermode": "closest",
          "mapbox": {
           "style": "light"
          },
          "paper_bgcolor": "white",
          "plot_bgcolor": "#E5ECF6",
          "polar": {
           "angularaxis": {
            "gridcolor": "white",
            "linecolor": "white",
            "ticks": ""
           },
           "bgcolor": "#E5ECF6",
           "radialaxis": {
            "gridcolor": "white",
            "linecolor": "white",
            "ticks": ""
           }
          },
          "scene": {
           "xaxis": {
            "backgroundcolor": "#E5ECF6",
            "gridcolor": "white",
            "gridwidth": 2,
            "linecolor": "white",
            "showbackground": true,
            "ticks": "",
            "zerolinecolor": "white"
           },
           "yaxis": {
            "backgroundcolor": "#E5ECF6",
            "gridcolor": "white",
            "gridwidth": 2,
            "linecolor": "white",
            "showbackground": true,
            "ticks": "",
            "zerolinecolor": "white"
           },
           "zaxis": {
            "backgroundcolor": "#E5ECF6",
            "gridcolor": "white",
            "gridwidth": 2,
            "linecolor": "white",
            "showbackground": true,
            "ticks": "",
            "zerolinecolor": "white"
           }
          },
          "shapedefaults": {
           "line": {
            "color": "#2a3f5f"
           }
          },
          "ternary": {
           "aaxis": {
            "gridcolor": "white",
            "linecolor": "white",
            "ticks": ""
           },
           "baxis": {
            "gridcolor": "white",
            "linecolor": "white",
            "ticks": ""
           },
           "bgcolor": "#E5ECF6",
           "caxis": {
            "gridcolor": "white",
            "linecolor": "white",
            "ticks": ""
           }
          },
          "title": {
           "x": 0.05
          },
          "xaxis": {
           "automargin": true,
           "gridcolor": "white",
           "linecolor": "white",
           "ticks": "",
           "title": {
            "standoff": 15
           },
           "zerolinecolor": "white",
           "zerolinewidth": 2
          },
          "yaxis": {
           "automargin": true,
           "gridcolor": "white",
           "linecolor": "white",
           "ticks": "",
           "title": {
            "standoff": 15
           },
           "zerolinecolor": "white",
           "zerolinewidth": 2
          }
         }
        },
        "title": {
         "text": "2019 Global GDP in USD"
        }
       }
      },
      "text/html": [
       "<div>                            <div id=\"7cc56ba3-38bb-4be0-aee7-5b4398c1165a\" class=\"plotly-graph-div\" style=\"height:525px; width:100%;\"></div>            <script type=\"text/javascript\">                require([\"plotly\"], function(Plotly) {                    window.PLOTLYENV=window.PLOTLYENV || {};                                    if (document.getElementById(\"7cc56ba3-38bb-4be0-aee7-5b4398c1165a\")) {                    Plotly.newPlot(                        \"7cc56ba3-38bb-4be0-aee7-5b4398c1165a\",                        [{\"colorbar\": {\"title\": {\"text\": \"USD\"}}, \"colorscale\": [[0.0, \"rgb(255,245,240)\"], [0.125, \"rgb(254,224,210)\"], [0.25, \"rgb(252,187,161)\"], [0.375, \"rgb(252,146,114)\"], [0.5, \"rgb(251,106,74)\"], [0.625, \"rgb(239,59,44)\"], [0.75, \"rgb(203,24,29)\"], [0.875, \"rgb(165,15,21)\"], [1.0, \"rgb(103,0,13)\"]], \"locations\": [\"ABW\", \"AFG\", \"AGO\", \"ALB\", \"AND\", \"ARB\", \"ARE\", \"ARG\", \"ARM\", \"ASM\", \"ATG\", \"AUS\", \"AUT\", \"AZE\", \"BDI\", \"BEL\", \"BEN\", \"BFA\", \"BGD\", \"BGR\", \"BHR\", \"BHS\", \"BIH\", \"BLR\", \"BLZ\", \"BMU\", \"BOL\", \"BRA\", \"BRB\", \"BRN\", \"BTN\", \"BWA\", \"CAF\", \"CAN\", \"CEB\", \"CHE\", \"CHI\", \"CHL\", \"CHN\", \"CIV\", \"CMR\", \"COD\", \"COG\", \"COL\", \"COM\", \"CPV\", \"CRI\", \"CSS\", \"CUB\", \"CUW\", \"CYM\", \"CYP\", \"CZE\", \"DEU\", \"DJI\", \"DMA\", \"DNK\", \"DOM\", \"DZA\", \"EAP\", \"EAR\", \"EAS\", \"ECA\", \"ECS\", \"ECU\", \"EGY\", \"EMU\", \"ERI\", \"ESP\", \"EST\", \"ETH\", \"EUU\", \"FCS\", \"FIN\", \"FJI\", \"FRA\", \"FRO\", \"FSM\", \"GAB\", \"GBR\", \"GEO\", \"GHA\", \"GIB\", \"GIN\", \"GMB\", \"GNB\", \"GNQ\", \"GRC\", \"GRD\", \"GRL\", \"GTM\", \"GUM\", \"GUY\", \"HIC\", \"HKG\", \"HND\", \"HPC\", \"HRV\", \"HTI\", \"HUN\", \"IBD\", \"IBT\", \"IDA\", \"IDB\", \"IDN\", \"IDX\", \"IMN\", \"IND\", \"INX\", \"IRL\", \"IRN\", \"IRQ\", \"ISL\", \"ISR\", \"ITA\", \"JAM\", \"JOR\", \"JPN\", \"KAZ\", \"KEN\", \"KGZ\", \"KHM\", \"KIR\", \"KNA\", \"KOR\", \"KWT\", \"LAC\", \"LAO\", \"LBN\", \"LBR\", \"LBY\", \"LCA\", \"LCN\", \"LDC\", \"LIC\", \"LIE\", \"LKA\", \"LMC\", \"LMY\", \"LSO\", \"LTE\", \"LTU\", \"LUX\", \"LVA\", \"MAC\", \"MAF\", \"MAR\", \"MCO\", \"MDA\", \"MDG\", \"MDV\", \"MEA\", \"MEX\", \"MHL\", \"MIC\", \"MKD\", \"MLI\", \"MLT\", \"MMR\", \"MNA\", \"MNE\", \"MNG\", \"MNP\", \"MOZ\", \"MRT\", \"MUS\", \"MWI\", \"MYS\", \"NAC\", \"NAM\", \"NCL\", \"NER\", \"NGA\", \"NIC\", \"NLD\", \"NOR\", \"NPL\", \"NRU\", \"NZL\", \"OED\", \"OMN\", \"OSS\", \"PAK\", \"PAN\", \"PER\", \"PHL\", \"PLW\", \"PNG\", \"POL\", \"PRE\", \"PRI\", \"PRK\", \"PRT\", \"PRY\", \"PSE\", \"PSS\", \"PST\", \"PYF\", \"QAT\", \"ROU\", \"RUS\", \"RWA\", \"SAS\", \"SAU\", \"SDN\", \"SEN\", \"SGP\", \"SLB\", \"SLE\", \"SLV\", \"SMR\", \"SOM\", \"SRB\", \"SSA\", \"SSD\", \"SSF\", \"SST\", \"STP\", \"SUR\", \"SVK\", \"SVN\", \"SWE\", \"SWZ\", \"SXM\", \"SYC\", \"SYR\", \"TCA\", \"TCD\", \"TEA\", \"TEC\", \"TGO\", \"THA\", \"TJK\", \"TKM\", \"TLA\", \"TLS\", \"TMN\", \"TON\", \"TSA\", \"TSS\", \"TTO\", \"TUN\", \"TUR\", \"TUV\", \"TZA\", \"UGA\", \"UKR\", \"UMC\", \"URY\", \"USA\", \"UZB\", \"VCT\", \"VEN\", \"VGB\", \"VIR\", \"VNM\", \"VUT\", \"WLD\", \"WSM\", \"XKX\", \"YEM\", \"ZAF\", \"ZMB\", \"ZWE\"], \"type\": \"choropleth\", \"z\": [null, 19291104007.8299, 88815697793.303, 15279183289.9372, 3154057987.23833, 2817414584665.11, 421142267937.65, 445445177459.426, 13672802157.8324, null, 1661962962.96296, 1396567014733.23, 445075391688.156, 48047647058.8235, 3012334881.64057, 533097455834.509, 14390709094.9386, 15990803569.9961, 302571254131.135, 68558815111.6199, 38574069148.9362, 13578800000.0, 20164193806.88, 63080457022.6599, 1879613600.0, 7484113000.0, 40895322843.7851, 1839758040765.62, 5209000000.0, 13469422958.5105, 2530547157.56678, 18340480936.0444, 2220307368.69593, 1736425629519.96, 1668851928931.89, 703082435158.864, null, 282318159744.65, 14279937467431.0, 58539424929.7248, 39007354359.2798, 50400746171.4239, 12267392146.5888, 323615979418.651, 1165839927.06327, 1981845740.35828, 61801385049.0716, 77721714917.8506, null, 3101787709.49721, null, 24948935408.0376, 250680504529.647, 3861123558039.21, 3324634256.13324, 582403703.703704, 350104327658.675, 88941299734.2073, 171091289782.245, 17151686026915.6, 11989867025219.9, 26924664688093.9, 3248461689441.89, 22792819661712.7, 107435665000.0, 303092255125.285, 13356063677260.5, null, 1393490524517.64, 31471100656.2431, 95912590628.1412, 15626448476438.3, 1778456492418.56, 269296310180.392, 5496250694.31587, 2715518274227.45, null, null, 16874450215.1351, 2829108219165.8, 17477255545.6705, 66983634223.943, null, 12296665331.192, 1826073739.82522, 1339449165.48759, 11026774945.3415, 209852761132.839, 1210603703.7037, null, 76710355347.0968, null, 5173759527.57794, 55140634994666.1, 365711532816.907, 25095395475.0393, 783061756161.729, 60752588976.3175, 14332163266.3977, 163469042867.956, 31538957028550.6, 33852003085093.2, 2320313648145.49, 991547520067.22, 1119190780752.8, 1331970889524.39, null, 2868929415617.02, null, 388698711348.156, null, 234094042938.917, 24188038473.5438, 394652210295.849, 2003576145498.04, 16458071067.8176, 44502895861.6837, 5081769542379.77, 181665908556.499, 95503088538.092, 8454619607.81795, 27089389786.979, 194647201.946472, 1053244444.44444, 1646739219509.89, 134628542746.97, 5149595087470.17, 18173839147.4011, 51991634491.6345, 3070518100.0, 52091152228.3425, 2122450629.62963, 5733773582151.17, 1115238042585.36, 541511926907.273, null, 84008783756.068, 6334933300545.64, 32643456410262.6, 2376328637.26318, 22920380253104.7, 54627411860.4705, 71104919108.1411, 34102913582.4235, 53859116535.5306, null, 119700325461.938, null, 11968713370.4969, 14114631280.6774, 5642179170.45898, 3649607782728.21, 1268870527160.03, null, 32087932735521.4, 12547040498.9077, 17279566718.6087, 14989415684.1203, 76085852617.1371, null, 5542577964.98146, 13996719329.4097, null, 15291448211.603, 7600656943.97506, 14048430518.5561, 7666704427.00915, 364681367531.684, 23177135742520.0, 12366528259.1844, null, 12911689659.351, 448120428858.769, 12520915291.1837, 907050863145.097, 403336363636.364, 30641380603.9699, 118223430.124446, 206928765543.935, 53699374881339.8, 76331518668.5771, 432092892349.402, 278221906022.841, 66800800000.0, 226848050819.525, 376795508678.853, 268354919.433594, 24829107011.0701, 595858207011.512, 1403794376560.53, 104988600000.0, null, 238785085030.988, 38145288939.8488, null, 10634784072.6223, 50769917916181.5, null, 175837550996.185, 250077444017.084, 1699876578871.35, 10354417725.1555, 3591836570466.89, 792966838161.659, 30513456084.7961, 23578084052.0147, 372062527488.638, 1589913622.23799, 4121733705.29165, 27022640000.0, null, null, 51475016532.1293, 1751180043654.43, null, 1766941400078.09, 520457174770.632, 418637388.988052, 3697371949.58434, 105079673009.733, 54174227308.8862, 530883869004.977, 4471598726.6436, null, 1703387387.32319, null, 1197415000.0, 11314951342.7807, 17118925821623.1, 4155157371202.28, 5490272413.38702, 543548969968.693, 8116626794.25837, null, 5487957496814.37, 2017924900.0, null, 512350059.421629, 3591836570466.89, 1766941400078.09, 24269714809.9078, 38796687568.157, 761425499358.159, 47271463.3298575, 63177068174.549, 35165157016.9125, 153781069118.148, 25741843596304.4, 56045912952.9732, 21433226000000.0, 57921286440.3495, 824718518.518518, null, null, null, 261921244843.172, 934239973.812573, 87734574388072.7, 852250190.985485, 7926133713.61397, 22581081993.945, 351431649241.439, 23309773922.7582, 21440758800.0]}],                        {\"template\": {\"data\": {\"bar\": [{\"error_x\": {\"color\": \"#2a3f5f\"}, \"error_y\": {\"color\": \"#2a3f5f\"}, \"marker\": {\"line\": {\"color\": \"#E5ECF6\", \"width\": 0.5}}, \"type\": \"bar\"}], \"barpolar\": [{\"marker\": {\"line\": {\"color\": \"#E5ECF6\", \"width\": 0.5}}, \"type\": \"barpolar\"}], \"carpet\": [{\"aaxis\": {\"endlinecolor\": \"#2a3f5f\", \"gridcolor\": \"white\", \"linecolor\": \"white\", \"minorgridcolor\": \"white\", \"startlinecolor\": \"#2a3f5f\"}, \"baxis\": {\"endlinecolor\": \"#2a3f5f\", \"gridcolor\": \"white\", \"linecolor\": \"white\", \"minorgridcolor\": \"white\", \"startlinecolor\": \"#2a3f5f\"}, \"type\": \"carpet\"}], \"choropleth\": [{\"colorbar\": {\"outlinewidth\": 0, \"ticks\": \"\"}, \"type\": \"choropleth\"}], \"contour\": [{\"colorbar\": {\"outlinewidth\": 0, \"ticks\": \"\"}, \"colorscale\": [[0.0, \"#0d0887\"], [0.1111111111111111, \"#46039f\"], [0.2222222222222222, \"#7201a8\"], [0.3333333333333333, \"#9c179e\"], [0.4444444444444444, \"#bd3786\"], [0.5555555555555556, \"#d8576b\"], [0.6666666666666666, \"#ed7953\"], [0.7777777777777778, \"#fb9f3a\"], [0.8888888888888888, \"#fdca26\"], [1.0, \"#f0f921\"]], \"type\": \"contour\"}], \"contourcarpet\": [{\"colorbar\": {\"outlinewidth\": 0, \"ticks\": \"\"}, \"type\": \"contourcarpet\"}], \"heatmap\": [{\"colorbar\": {\"outlinewidth\": 0, \"ticks\": \"\"}, \"colorscale\": [[0.0, \"#0d0887\"], [0.1111111111111111, \"#46039f\"], [0.2222222222222222, \"#7201a8\"], [0.3333333333333333, \"#9c179e\"], [0.4444444444444444, \"#bd3786\"], [0.5555555555555556, \"#d8576b\"], [0.6666666666666666, \"#ed7953\"], [0.7777777777777778, \"#fb9f3a\"], [0.8888888888888888, \"#fdca26\"], [1.0, \"#f0f921\"]], \"type\": \"heatmap\"}], \"heatmapgl\": [{\"colorbar\": {\"outlinewidth\": 0, \"ticks\": \"\"}, \"colorscale\": [[0.0, \"#0d0887\"], [0.1111111111111111, \"#46039f\"], [0.2222222222222222, \"#7201a8\"], [0.3333333333333333, \"#9c179e\"], [0.4444444444444444, \"#bd3786\"], [0.5555555555555556, \"#d8576b\"], [0.6666666666666666, \"#ed7953\"], [0.7777777777777778, \"#fb9f3a\"], [0.8888888888888888, \"#fdca26\"], [1.0, \"#f0f921\"]], \"type\": \"heatmapgl\"}], \"histogram\": [{\"marker\": {\"colorbar\": {\"outlinewidth\": 0, \"ticks\": \"\"}}, \"type\": \"histogram\"}], \"histogram2d\": [{\"colorbar\": {\"outlinewidth\": 0, \"ticks\": \"\"}, \"colorscale\": [[0.0, \"#0d0887\"], [0.1111111111111111, \"#46039f\"], [0.2222222222222222, \"#7201a8\"], [0.3333333333333333, \"#9c179e\"], [0.4444444444444444, \"#bd3786\"], [0.5555555555555556, \"#d8576b\"], [0.6666666666666666, \"#ed7953\"], [0.7777777777777778, \"#fb9f3a\"], [0.8888888888888888, \"#fdca26\"], [1.0, \"#f0f921\"]], \"type\": \"histogram2d\"}], \"histogram2dcontour\": [{\"colorbar\": {\"outlinewidth\": 0, \"ticks\": \"\"}, \"colorscale\": [[0.0, \"#0d0887\"], [0.1111111111111111, \"#46039f\"], [0.2222222222222222, \"#7201a8\"], [0.3333333333333333, \"#9c179e\"], [0.4444444444444444, \"#bd3786\"], [0.5555555555555556, \"#d8576b\"], [0.6666666666666666, \"#ed7953\"], [0.7777777777777778, \"#fb9f3a\"], [0.8888888888888888, \"#fdca26\"], [1.0, \"#f0f921\"]], \"type\": \"histogram2dcontour\"}], \"mesh3d\": [{\"colorbar\": {\"outlinewidth\": 0, \"ticks\": \"\"}, \"type\": \"mesh3d\"}], \"parcoords\": [{\"line\": {\"colorbar\": {\"outlinewidth\": 0, \"ticks\": \"\"}}, \"type\": \"parcoords\"}], \"pie\": [{\"automargin\": true, \"type\": \"pie\"}], \"scatter\": [{\"marker\": {\"colorbar\": {\"outlinewidth\": 0, \"ticks\": \"\"}}, \"type\": \"scatter\"}], \"scatter3d\": [{\"line\": {\"colorbar\": {\"outlinewidth\": 0, \"ticks\": \"\"}}, \"marker\": {\"colorbar\": {\"outlinewidth\": 0, \"ticks\": \"\"}}, \"type\": \"scatter3d\"}], \"scattercarpet\": [{\"marker\": {\"colorbar\": {\"outlinewidth\": 0, \"ticks\": \"\"}}, \"type\": \"scattercarpet\"}], \"scattergeo\": [{\"marker\": {\"colorbar\": {\"outlinewidth\": 0, \"ticks\": \"\"}}, \"type\": \"scattergeo\"}], \"scattergl\": [{\"marker\": {\"colorbar\": {\"outlinewidth\": 0, \"ticks\": \"\"}}, \"type\": \"scattergl\"}], \"scattermapbox\": [{\"marker\": {\"colorbar\": {\"outlinewidth\": 0, \"ticks\": \"\"}}, \"type\": \"scattermapbox\"}], \"scatterpolar\": [{\"marker\": {\"colorbar\": {\"outlinewidth\": 0, \"ticks\": \"\"}}, \"type\": \"scatterpolar\"}], \"scatterpolargl\": [{\"marker\": {\"colorbar\": {\"outlinewidth\": 0, \"ticks\": \"\"}}, \"type\": \"scatterpolargl\"}], \"scatterternary\": [{\"marker\": {\"colorbar\": {\"outlinewidth\": 0, \"ticks\": \"\"}}, \"type\": \"scatterternary\"}], \"surface\": [{\"colorbar\": {\"outlinewidth\": 0, \"ticks\": \"\"}, \"colorscale\": [[0.0, \"#0d0887\"], [0.1111111111111111, \"#46039f\"], [0.2222222222222222, \"#7201a8\"], [0.3333333333333333, \"#9c179e\"], [0.4444444444444444, \"#bd3786\"], [0.5555555555555556, \"#d8576b\"], [0.6666666666666666, \"#ed7953\"], [0.7777777777777778, \"#fb9f3a\"], [0.8888888888888888, \"#fdca26\"], [1.0, \"#f0f921\"]], \"type\": \"surface\"}], \"table\": [{\"cells\": {\"fill\": {\"color\": \"#EBF0F8\"}, \"line\": {\"color\": \"white\"}}, \"header\": {\"fill\": {\"color\": \"#C8D4E3\"}, \"line\": {\"color\": \"white\"}}, \"type\": \"table\"}]}, \"layout\": {\"annotationdefaults\": {\"arrowcolor\": \"#2a3f5f\", \"arrowhead\": 0, \"arrowwidth\": 1}, \"autotypenumbers\": \"strict\", \"coloraxis\": {\"colorbar\": {\"outlinewidth\": 0, \"ticks\": \"\"}}, \"colorscale\": {\"diverging\": [[0, \"#8e0152\"], [0.1, \"#c51b7d\"], [0.2, \"#de77ae\"], [0.3, \"#f1b6da\"], [0.4, \"#fde0ef\"], [0.5, \"#f7f7f7\"], [0.6, \"#e6f5d0\"], [0.7, \"#b8e186\"], [0.8, \"#7fbc41\"], [0.9, \"#4d9221\"], [1, \"#276419\"]], \"sequential\": [[0.0, \"#0d0887\"], [0.1111111111111111, \"#46039f\"], [0.2222222222222222, \"#7201a8\"], [0.3333333333333333, \"#9c179e\"], [0.4444444444444444, \"#bd3786\"], [0.5555555555555556, \"#d8576b\"], [0.6666666666666666, \"#ed7953\"], [0.7777777777777778, \"#fb9f3a\"], [0.8888888888888888, \"#fdca26\"], [1.0, \"#f0f921\"]], \"sequentialminus\": [[0.0, \"#0d0887\"], [0.1111111111111111, \"#46039f\"], [0.2222222222222222, \"#7201a8\"], [0.3333333333333333, \"#9c179e\"], [0.4444444444444444, \"#bd3786\"], [0.5555555555555556, \"#d8576b\"], [0.6666666666666666, \"#ed7953\"], [0.7777777777777778, \"#fb9f3a\"], [0.8888888888888888, \"#fdca26\"], [1.0, \"#f0f921\"]]}, \"colorway\": [\"#636efa\", \"#EF553B\", \"#00cc96\", \"#ab63fa\", \"#FFA15A\", \"#19d3f3\", \"#FF6692\", \"#B6E880\", \"#FF97FF\", \"#FECB52\"], \"font\": {\"color\": \"#2a3f5f\"}, \"geo\": {\"bgcolor\": \"white\", \"lakecolor\": \"white\", \"landcolor\": \"#E5ECF6\", \"showlakes\": true, \"showland\": true, \"subunitcolor\": \"white\"}, \"hoverlabel\": {\"align\": \"left\"}, \"hovermode\": \"closest\", \"mapbox\": {\"style\": \"light\"}, \"paper_bgcolor\": \"white\", \"plot_bgcolor\": \"#E5ECF6\", \"polar\": {\"angularaxis\": {\"gridcolor\": \"white\", \"linecolor\": \"white\", \"ticks\": \"\"}, \"bgcolor\": \"#E5ECF6\", \"radialaxis\": {\"gridcolor\": \"white\", \"linecolor\": \"white\", \"ticks\": \"\"}}, \"scene\": {\"xaxis\": {\"backgroundcolor\": \"#E5ECF6\", \"gridcolor\": \"white\", \"gridwidth\": 2, \"linecolor\": \"white\", \"showbackground\": true, \"ticks\": \"\", \"zerolinecolor\": \"white\"}, \"yaxis\": {\"backgroundcolor\": \"#E5ECF6\", \"gridcolor\": \"white\", \"gridwidth\": 2, \"linecolor\": \"white\", \"showbackground\": true, \"ticks\": \"\", \"zerolinecolor\": \"white\"}, \"zaxis\": {\"backgroundcolor\": \"#E5ECF6\", \"gridcolor\": \"white\", \"gridwidth\": 2, \"linecolor\": \"white\", \"showbackground\": true, \"ticks\": \"\", \"zerolinecolor\": \"white\"}}, \"shapedefaults\": {\"line\": {\"color\": \"#2a3f5f\"}}, \"ternary\": {\"aaxis\": {\"gridcolor\": \"white\", \"linecolor\": \"white\", \"ticks\": \"\"}, \"baxis\": {\"gridcolor\": \"white\", \"linecolor\": \"white\", \"ticks\": \"\"}, \"bgcolor\": \"#E5ECF6\", \"caxis\": {\"gridcolor\": \"white\", \"linecolor\": \"white\", \"ticks\": \"\"}}, \"title\": {\"x\": 0.05}, \"xaxis\": {\"automargin\": true, \"gridcolor\": \"white\", \"linecolor\": \"white\", \"ticks\": \"\", \"title\": {\"standoff\": 15}, \"zerolinecolor\": \"white\", \"zerolinewidth\": 2}, \"yaxis\": {\"automargin\": true, \"gridcolor\": \"white\", \"linecolor\": \"white\", \"ticks\": \"\", \"title\": {\"standoff\": 15}, \"zerolinecolor\": \"white\", \"zerolinewidth\": 2}}}, \"title\": {\"text\": \"2019 Global GDP in USD\"}},                        {\"responsive\": true}                    ).then(function(){\n",
       "                            \n",
       "var gd = document.getElementById('7cc56ba3-38bb-4be0-aee7-5b4398c1165a');\n",
       "var x = new MutationObserver(function (mutations, observer) {{\n",
       "        var display = window.getComputedStyle(gd).display;\n",
       "        if (!display || display === 'none') {{\n",
       "            console.log([gd, 'removed!']);\n",
       "            Plotly.purge(gd);\n",
       "            observer.disconnect();\n",
       "        }}\n",
       "}});\n",
       "\n",
       "// Listen for the removal of the full notebook cells\n",
       "var notebookContainer = gd.closest('#notebook-container');\n",
       "if (notebookContainer) {{\n",
       "    x.observe(notebookContainer, {childList: true});\n",
       "}}\n",
       "\n",
       "// Listen for the clearing of the current output cell\n",
       "var outputEl = gd.closest('.output');\n",
       "if (outputEl) {{\n",
       "    x.observe(outputEl, {childList: true});\n",
       "}}\n",
       "\n",
       "                        })                };                });            </script>        </div>"
      ]
     },
     "metadata": {},
     "output_type": "display_data"
    }
   ],
   "source": [
    "iplot(choromap)"
   ]
  },
  {
   "cell_type": "markdown",
   "id": "46ecb7fe",
   "metadata": {},
   "source": [
    "## Ref:"
   ]
  },
  {
   "cell_type": "markdown",
   "id": "e114fa7f",
   "metadata": {},
   "source": [
    "https://data.worldbank.org/"
   ]
  }
 ],
 "metadata": {
  "kernelspec": {
   "display_name": "Python 3",
   "language": "python",
   "name": "python3"
  },
  "language_info": {
   "codemirror_mode": {
    "name": "ipython",
    "version": 3
   },
   "file_extension": ".py",
   "mimetype": "text/x-python",
   "name": "python",
   "nbconvert_exporter": "python",
   "pygments_lexer": "ipython3",
   "version": "3.8.5"
  }
 },
 "nbformat": 4,
 "nbformat_minor": 5
}
